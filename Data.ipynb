{
 "cells": [
  {
   "cell_type": "code",
   "execution_count": 103,
   "id": "9d08b1b6-57df-446c-a05d-78eb1b87227a",
   "metadata": {},
   "outputs": [],
   "source": [
    "import cv2  # opencv\n",
    "import matplotlib.pyplot as plt  # data visualization\n",
    "import numpy as np  # n-dimentional array\n",
    "import os  # Directory\n",
    "import random  # changing the dataset order\n",
    "import pickle  # dump and load the dataset"
   ]
  },
  {
   "cell_type": "code",
   "execution_count": 104,
   "id": "902eb693-abd0-448c-ab48-430654ed87dc",
   "metadata": {},
   "outputs": [],
   "source": [
    "Traning_Data = []\n",
    "Directory = \"Dataset/\"\n",
    "Classes = [\"WithFaceMask/\",\"WithOutFaceMask/\"]\n",
    "Image_Size = 244  \n",
    "\n",
    "X = []   # images\n",
    "y = []   # Class_Num\n",
    "    \n",
    "def LoadDataSet():\n",
    "    for Category in Classes:\n",
    "        Path = os.path.join(Directory, Category)\n",
    "        Class_Num = Classes.index(Category)  # 0-WithMask  1-WithOutMask\n",
    "\n",
    "        for Images in os.listdir(Path):\n",
    "            try:\n",
    "                Image_Array = cv2.imread(os.path.join(Path, Images))\n",
    "                Resize_Image_244 = cv2.resize(Image_Array,(Image_Size,Image_Size))\n",
    "                Traning_Data.append([Resize_Image_244, Class_Num])\n",
    "            except Exception:\n",
    "                pass\n",
    "\n",
    "def SeperateDataSet():\n",
    "    random.shuffle(Traning_Data)\n",
    "    \n",
    "    for i,j in Traning_Data:\n",
    "        X.append(i)   # images from Traning_Data\n",
    "        y.append(j)   # Class_Num from Traning_Data\n",
    "\n",
    "def Convert2Numpy():\n",
    "    global X,y\n",
    "    \n",
    "    X = np.array(X)\n",
    "    X.reshape(-1,244,244,3)  #  -1(auto detect), 244(no of pixel) , 3(RGB)\n",
    "    X = X / 255   # Normalizing X \n",
    "    \n",
    "    y = np.array(y)\n",
    "\n",
    "def DumpCreatedDataSet():\n",
    "    Pickle_Out = open(\"X.pickle\",\"wb\")  # write binary\n",
    "    pickle.dump(X,Pickle_Out)\n",
    "    Pickle_Out.close()\n",
    "\n",
    "    Pickle_Out = open(\"y.pickle\",\"wb\")\n",
    "    pickle.dump(y,Pickle_Out)\n",
    "    Pickle_Out.close()"
   ]
  },
  {
   "cell_type": "code",
   "execution_count": 105,
   "id": "2a87013f-d158-474d-95a8-79dd60276d6a",
   "metadata": {},
   "outputs": [],
   "source": [
    "LoadDataSet()"
   ]
  },
  {
   "cell_type": "code",
   "execution_count": 106,
   "id": "ebacb2ea-7e4d-4f6f-94e9-622aaa62b790",
   "metadata": {},
   "outputs": [
    {
     "data": {
      "text/plain": [
       "1949"
      ]
     },
     "execution_count": 106,
     "metadata": {},
     "output_type": "execute_result"
    }
   ],
   "source": [
    "len(Traning_Data)"
   ]
  },
  {
   "cell_type": "code",
   "execution_count": 107,
   "id": "bb1480a1-ee4f-44e6-b923-b6b619e41a12",
   "metadata": {},
   "outputs": [],
   "source": [
    "SeperateDataSet()  # don't run this function after Convert2Numpy"
   ]
  },
  {
   "cell_type": "code",
   "execution_count": 108,
   "id": "03382853-d96a-4ae8-9d7a-86951f8a7dda",
   "metadata": {},
   "outputs": [],
   "source": [
    "Convert2Numpy()"
   ]
  },
  {
   "cell_type": "code",
   "execution_count": 112,
   "id": "6dd9fa77-8335-42b8-bb71-a01784a98b40",
   "metadata": {},
   "outputs": [],
   "source": [
    "DumpCreatedDataSet()"
   ]
  },
  {
   "cell_type": "code",
   "execution_count": null,
   "id": "2e0da735-30bc-466c-8ad3-d9142be73857",
   "metadata": {},
   "outputs": [],
   "source": []
  }
 ],
 "metadata": {
  "kernelspec": {
   "display_name": "Python 3 (ipykernel)",
   "language": "python",
   "name": "python3"
  },
  "language_info": {
   "codemirror_mode": {
    "name": "ipython",
    "version": 3
   },
   "file_extension": ".py",
   "mimetype": "text/x-python",
   "name": "python",
   "nbconvert_exporter": "python",
   "pygments_lexer": "ipython3",
   "version": "3.10.13"
  }
 },
 "nbformat": 4,
 "nbformat_minor": 5
}
